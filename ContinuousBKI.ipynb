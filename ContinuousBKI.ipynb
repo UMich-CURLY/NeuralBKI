{
 "cells": [
  {
   "cell_type": "code",
   "execution_count": 1,
   "metadata": {
    "executionInfo": {
     "elapsed": 1607,
     "status": "ok",
     "timestamp": 1648826998765,
     "user": {
      "displayName": "Joseph Wilson",
      "userId": "10418926994387796219"
     },
     "user_tz": 240
    },
    "id": "1WSzmmRxyKSn"
   },
   "outputs": [
    {
     "name": "stdout",
     "output_type": "stream",
     "text": [
      "device is  cpu\n"
     ]
    }
   ],
   "source": [
    "# https://github.com/davezdeng8/tlfpad/blob/master/util_ec.py\n",
    "\n",
    "import torch\n",
    "import numpy as np\n",
    "import time\n",
    "import os\n",
    "import pdb\n",
    "\n",
    "import torch.nn.functional as F\n",
    "# For visualizer\n",
    "import rospy\n",
    "from visualizer import publish_voxels\n",
    "from visualization_msgs.msg import *\n",
    "rospy.init_node('talker',disable_signals=True)\n",
    "\n",
    "device = torch.device('cuda' if torch.cuda.is_available() else 'cpu')\n",
    "\n",
    "if device == \"cuda\":\n",
    "  start = torch.cuda.Event(enable_timing=True)\n",
    "  end = torch.cuda.Event(enable_timing=True)\n",
    "else:\n",
    "  start = None\n",
    "  end = None\n",
    "print(\"device is \", device)\n",
    "    \n",
    "dataset_loc = \"/home/arthur/Data/rellis3d/00004/\""
   ]
  },
  {
   "cell_type": "code",
   "execution_count": 2,
   "metadata": {
    "executionInfo": {
     "elapsed": 6,
     "status": "ok",
     "timestamp": 1648826998874,
     "user": {
      "displayName": "Joseph Wilson",
      "userId": "10418926994387796219"
     },
     "user_tz": 240
    },
    "id": "59ERb8Hr0Vk2"
   },
   "outputs": [],
   "source": [
    "def knn_point(k, pos1, pos2):\n",
    "    '''\n",
    "    Input:\n",
    "        k: int32, number of k in k-nn search\n",
    "        pos1: (batch_size, ndataset, c) float32 array, input points\n",
    "        pos2: (batch_size, npoint, c) float32 array, query points\n",
    "    Output:\n",
    "        val: (batch_size, npoint, k) float32 array, L2 distances\n",
    "        idx: (batch_size, npoint, k) int32 array, indices to input points\n",
    "    '''\n",
    "    B, N, C = pos1.shape\n",
    "    M = pos2.shape[1]\n",
    "    pos1 = pos1.view(B,1,N,-1).repeat(1,M,1,1)\n",
    "    pos2 = pos2.view(B,M,1,-1).repeat(1,1,N,1)\n",
    "    dist = torch.sum(-(pos1-pos2)**2,-1)\n",
    "    val,idx = dist.topk(k=k,dim = -1)\n",
    "    return torch.sqrt(-val), idx"
   ]
  },
  {
   "cell_type": "code",
   "execution_count": 3,
   "metadata": {},
   "outputs": [],
   "source": [
    "class ContinuousBKI(torch.nn.Module):\n",
    "    def __init__(self, grid_size, min_bound, max_bound, max_k, batch_size=1000, \n",
    "                 num_classes=20, kernel=\"sparse\", prior=0.001, device=\"cpu\",\n",
    "                max_dist=1.0):\n",
    "        '''\n",
    "        Input:\n",
    "            grid_size: (x, y, z) int32 array, number of voxels\n",
    "            min_bound: (x, y, z) float32 array, lower bound on local map\n",
    "            max_bound: (x, y, z) float32 array, upper bound on local map\n",
    "        '''\n",
    "        super().__init__()\n",
    "        self.max_dist = max_dist\n",
    "        self.kernel = kernel\n",
    "        self.min_bound = min_bound.view(-1, 3).to(device)\n",
    "        self.max_bound = max_bound.view(-1, 3).to(device)\n",
    "        self.grid_size = grid_size\n",
    "        self.prior = prior\n",
    "        self.max_k = max_k\n",
    "        self.device = device\n",
    "        self.num_classes = num_classes\n",
    "        self.batch_size = batch_size\n",
    "        \n",
    "        self.pi = torch.acos(torch.zeros(1)).item() * 2\n",
    "        \n",
    "        [xs, ys, zs] = [(max_bound[i]-min_bound[i])/(2*grid_size[i]) + \n",
    "                        torch.linspace(min_bound[i], max_bound[i], steps=grid_size[i]+1)[:-1] for i in range(3)]\n",
    "        self.centroids = torch.cartesian_prod(xs, ys, zs).to(device)\n",
    "        \n",
    "        reshaped_centroids = self.centroids.reshape(grid_size[0], grid_size[1], grid_size[2], 3)\n",
    "        \n",
    "        self.initialize_kernel()\n",
    "        \n",
    "        \n",
    "    def knn_point(self, pos1, pos2):\n",
    "        '''\n",
    "        Input:\n",
    "            pos1: (batch_size, ndataset, c) float32 array, input points\n",
    "            pos2: (batch_size, npoint, c) float32 array, query points\n",
    "        Output:\n",
    "            val: (batch_size, npoint, k) float32 array, L2 distances\n",
    "            idx: (batch_size, npoint, k) int32 array, indices to input points\n",
    "        '''\n",
    "        N, C = pos1.shape\n",
    "        M = pos2.shape[0]\n",
    "        pos1 = pos1.view(1,N,-1).repeat(M,1,1)\n",
    "        pos2 = pos2.view(M,1,-1).repeat(1,N,1)\n",
    "        dist = torch.sum(-(pos1-pos2)**2,-1)\n",
    "        val,idx = dist.topk(k=self.max_k,dim = -1)\n",
    "        \n",
    "        return torch.sqrt(-val), idx\n",
    "    \n",
    "    def initialize_kernel(self):\n",
    "        if self.kernel == \"sparse\":\n",
    "            self.sigma = torch.nn.Parameter(torch.tensor(0.1))\n",
    "            self.ell = torch.nn.Parameter(torch.tensor(0.3))\n",
    "            self.max_dist = self.ell.item()\n",
    "            \n",
    "    def calculate_kernel(self, d):\n",
    "        if self.kernel == \"sparse\":\n",
    "            return self.sigma * ( \n",
    "                (1/3)*(2 + torch.cos(2 * self.pi * d/self.ell))*(1 - d/self.ell) +\n",
    "                         1/(2*self.pi) * torch.sin(2 * self.pi * d / self.ell)\n",
    "                         )\n",
    "            \n",
    "            \n",
    "    def initialize_grid(self):\n",
    "        return torch.zeros(self.grid_size[0], self.grid_size[1], self.grid_size[2], \n",
    "                           self.num_classes, device=self.device) + self.prior\n",
    "    \n",
    "    def grid_ind(self, input_pc):\n",
    "        '''\n",
    "        Input:\n",
    "            input_xyz: N * (x, y, z, c) float32 array, point cloud\n",
    "        Output:\n",
    "            grid_inds: N' * (x, y, z, c) int32 array, point cloud mapped to voxels\n",
    "        '''\n",
    "        input_xyz   = input_pc[:, :3]\n",
    "        labels      = input_pc[:, 3].view(-1, 1)\n",
    "        \n",
    "        valid_input_mask = torch.all((input_xyz < self.max_bound) & (input_xyz >= self.min_bound), axis=1)\n",
    "        # To be continued..\n",
    "        \n",
    "        \n",
    "    def forward(self, current_map, point_cloud):\n",
    "        '''\n",
    "        Input:\n",
    "            current_map: (x, y, z, c) float32 array, prior dirichlet distribution over map\n",
    "            point_cloud: N * (x, y, z, c) float32 array, semantically labeled points\n",
    "        Output:\n",
    "            updated_map: (x, y, z, c) float32 array, posterior dirichlet distribution over map\n",
    "        '''\n",
    "        # Optional: downsample points and queries to reduce time complexity\n",
    "\n",
    "        # First, get matching indices\n",
    "        with torch.no_grad():\n",
    "            start_num = 0\n",
    "            matched_dists = torch.zeros(self.centroids.shape[0], self.max_k, device=self.device)\n",
    "            matched_labels = torch.zeros(self.centroids.shape[0], self.max_k, dtype=torch.long, device=self.device)\n",
    "            while start_num < self.centroids.shape[0]:\n",
    "                end_point = min(self.centroids.shape[0], start_num + self.batch_size)\n",
    "\n",
    "                dists, inds = self.knn_point(point_cloud[:, :3], self.centroids[start_num:end_point])\n",
    "                labels = point_cloud[:, 3][inds]\n",
    "                matched_dists[start_num:end_point, :] = dists\n",
    "                matched_labels[start_num:end_point, :] = labels\n",
    "                start_num += self.batch_size\n",
    "            labels_one_hot = F.one_hot(matched_labels, num_classes=self.num_classes)\n",
    "        print(\"finished no grad\")\n",
    "        # Next, use non-zero distances to calculate kernel\n",
    "        X, Y, Z, C = current_map.shape\n",
    "        \n",
    "        kernel_values = torch.zeros(X, Y, Z, 1, self.max_k).to(self.device)\n",
    "        dists = matched_dists.reshape(X, Y, Z, 1, self.max_k)\n",
    "        \n",
    "        labels = labels_one_hot.permute(0, 2, 1).reshape(X, Y, Z, C, self.max_k)\n",
    "        \n",
    "        within_range = dists < self.max_dist\n",
    "        kernel_values[within_range] = self.calculate_kernel(dists[within_range])\n",
    "        \n",
    "        # Perform Update\n",
    "        update = torch.sum(kernel_values * labels, 4)\n",
    "        \n",
    "        return current_map + update\n",
    "    \n",
    "    # def propagate(self, current_map, )"
   ]
  },
  {
   "cell_type": "code",
   "execution_count": 4,
   "metadata": {
    "executionInfo": {
     "elapsed": 71,
     "status": "ok",
     "timestamp": 1648827379845,
     "user": {
      "displayName": "Joseph Wilson",
      "userId": "10418926994387796219"
     },
     "user_tz": 240
    },
    "id": "hJNPDwTStl00"
   },
   "outputs": [],
   "source": [
    "# Create an empty grid\n",
    "bki_map = ContinuousBKI(\n",
    "    torch.tensor([128, 128, 8]), # Grid size\n",
    "    torch.tensor([-25.6, -25.6, -2.0]), # Lower bound\n",
    "    torch.tensor([25.6, 25.6, 2.0]), # Upper bound\n",
    "    10 # Max points in neighborhood\n",
    ")\n",
    "\n",
    "\n",
    "current_map = bki_map.initialize_grid()\n",
    "\n",
    "# Load point cloud from KITTI\n",
    "velo_loc = os.path.join(dataset_loc, \"os1_cloud_node_kitti_bin\")\n",
    "label_base_loc = os.path.join(dataset_loc, \"os1_cloud_node_semantickitti_label_id\")\n",
    "os_files = os.listdir(velo_loc)\n",
    "\n",
    "for velo_file in sorted(os_files):\n",
    "    velo = np.fromfile(os.path.join(velo_loc, velo_file), dtype=np.float32).reshape(-1, 4)[:, :3]\n",
    "    labels = np.fromfile(os.path.join(label_base_loc, velo_file.split(\".\")[0]+\".label\"), dtype=np.uint32)\n",
    "    labeled_pc = np.hstack( (velo, labels.reshape(-1, 1)) )\n",
    "    break"
   ]
  },
  {
   "cell_type": "code",
   "execution_count": 5,
   "metadata": {
    "executionInfo": {
     "elapsed": 76,
     "status": "ok",
     "timestamp": 1648827381506,
     "user": {
      "displayName": "Joseph Wilson",
      "userId": "10418926994387796219"
     },
     "user_tz": 240
    },
    "id": "J45arotXtbvn"
   },
   "outputs": [],
   "source": [
    "current_map = bki_map.initialize_grid()\n",
    "posterior_map = bki_map(current_map, torch.tensor(labeled_pc, device=device))"
   ]
  },
  {
   "cell_type": "code",
   "execution_count": 6,
   "metadata": {
    "colab": {
     "base_uri": "https://localhost:8080/"
    },
    "executionInfo": {
     "elapsed": 1637,
     "status": "ok",
     "timestamp": 1648827395034,
     "user": {
      "displayName": "Joseph Wilson",
      "userId": "10418926994387796219"
     },
     "user_tz": 240
    },
    "id": "uaQ6PNkO9qIT",
    "outputId": "078ef69c-5ab9-4c5d-d153-6d1500aaaaf7"
   },
   "outputs": [],
   "source": [
    "# print(torch.sum(posterior_map))"
   ]
  },
  {
   "cell_type": "code",
   "execution_count": 8,
   "metadata": {
    "id": "H2dQMaIuxEOS"
   },
   "outputs": [],
   "source": [
    "# Add visualization\n",
    "map_pub = rospy.Publisher('SemMap', MarkerArray, queue_size=10)\n",
    "\n",
    "H, W, D, _ = current_map.shape\n",
    "current_map[0:H:2, 1:W:2, 1:D:2, 2] = 3\n",
    "publish_voxels(current_map, map_pub, \n",
    "    bki_map.centroids, \n",
    "    bki_map.min_bound.reshape(-1), \n",
    "    bki_map.max_bound.reshape(-1), \n",
    "    bki_map.grid_size.reshape(-1)\n",
    ")"
   ]
  },
  {
   "cell_type": "code",
   "execution_count": null,
   "metadata": {},
   "outputs": [],
   "source": []
  }
 ],
 "metadata": {
  "accelerator": "GPU",
  "colab": {
   "authorship_tag": "ABX9TyO2Zi0Pzsl5H+Dge/THFTj/",
   "collapsed_sections": [],
   "name": "KNN.ipynb",
   "provenance": []
  },
  "kernelspec": {
   "display_name": "Python 3 (ipykernel)",
   "language": "python",
   "name": "python3"
  },
  "language_info": {
   "codemirror_mode": {
    "name": "ipython",
    "version": 3
   },
   "file_extension": ".py",
   "mimetype": "text/x-python",
   "name": "python",
   "nbconvert_exporter": "python",
   "pygments_lexer": "ipython3",
   "version": "3.8.10"
  }
 },
 "nbformat": 4,
 "nbformat_minor": 1
}
