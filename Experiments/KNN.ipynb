{
 "cells": [
  {
   "cell_type": "code",
   "execution_count": 1,
   "metadata": {
    "executionInfo": {
     "elapsed": 1607,
     "status": "ok",
     "timestamp": 1648826998765,
     "user": {
      "displayName": "Joseph Wilson",
      "userId": "10418926994387796219"
     },
     "user_tz": 240
    },
    "id": "1WSzmmRxyKSn"
   },
   "outputs": [],
   "source": [
    "# https://github.com/davezdeng8/tlfpad/blob/master/util_ec.py\n",
    "\n",
    "import torch\n",
    "import numpy as np\n",
    "import time\n",
    "\n",
    "device = torch.device('cuda' if torch.cuda.is_available() else 'cpu')\n",
    "\n",
    "if device == \"cuda\":\n",
    "  start = torch.cuda.Event(enable_timing=True)\n",
    "  end = torch.cuda.Event(enable_timing=True)\n",
    "else:\n",
    "  start = None\n",
    "  end = None"
   ]
  },
  {
   "cell_type": "code",
   "execution_count": 2,
   "metadata": {
    "executionInfo": {
     "elapsed": 7,
     "status": "ok",
     "timestamp": 1648826998766,
     "user": {
      "displayName": "Joseph Wilson",
      "userId": "10418926994387796219"
     },
     "user_tz": 240
    },
    "id": "DN7SYRTr5PDt"
   },
   "outputs": [],
   "source": [
    "def square_distance(src, dst):\n",
    "    \"\"\"\n",
    "    Calculate Euclid distance between each two points.\n",
    "    src^T * dst = xn * xm + yn * ym + zn * zm；\n",
    "    sum(src^2, dim=-1) = xn*xn + yn*yn + zn*zn;\n",
    "    sum(dst^2, dim=-1) = xm*xm + ym*ym + zm*zm;\n",
    "    dist = (xn - xm)^2 + (yn - ym)^2 + (zn - zm)^2\n",
    "         = sum(src**2,dim=-1)+sum(dst**2,dim=-1)-2*src^T*dst\n",
    "    Input:\n",
    "        src: source points, [B, N, C]\n",
    "        dst: target points, [B, M, C]\n",
    "    Output:\n",
    "        dist: per-point square distance, [B, N, M]\n",
    "    \"\"\"\n",
    "    B, N, _ = src.shape\n",
    "    _, M, _ = dst.shape\n",
    "    dist = -2 * torch.matmul(src, dst.permute(0, 2, 1))\n",
    "    dist += torch.sum(src ** 2, -1).view(B, N, 1)\n",
    "    dist += torch.sum(dst ** 2, -1).view(B, 1, M)\n",
    "    return dist\n",
    "\n",
    "def query_ball_point(radius, nsample, xyz, new_xyz):\n",
    "    \"\"\"\n",
    "    Input:\n",
    "        radius: local region radius\n",
    "        nsample: max sample number in local region\n",
    "        xyz: all points, [B, N, C]\n",
    "        new_xyz: query points, [B, S, C]\n",
    "    Return:\n",
    "        group_idx: grouped points index, [B, S, nsample]\n",
    "    \"\"\"\n",
    "    device = xyz.device\n",
    "    B, N, C = xyz.shape\n",
    "    _, S, _ = new_xyz.shape\n",
    "    group_idx = torch.arange(N, dtype=torch.long).to(device).view(1, 1, N).repeat([B, S, 1])\n",
    "    sqrdists = square_distance(new_xyz, xyz)\n",
    "    group_idx[sqrdists > radius ** 2] = N\n",
    "    mask = group_idx != N\n",
    "    cnt = mask.sum(dim=-1)\n",
    "    group_idx = group_idx.sort(dim=-1)[0][:, :, :nsample]\n",
    "    group_first = group_idx[:, :, 0].view(B, S, 1).repeat([1, 1, nsample])\n",
    "    mask = group_idx == N\n",
    "    group_idx[mask] = group_first[mask]\n",
    "    return group_idx, cnt"
   ]
  },
  {
   "cell_type": "code",
   "execution_count": 3,
   "metadata": {
    "executionInfo": {
     "elapsed": 6,
     "status": "ok",
     "timestamp": 1648826998874,
     "user": {
      "displayName": "Joseph Wilson",
      "userId": "10418926994387796219"
     },
     "user_tz": 240
    },
    "id": "59ERb8Hr0Vk2"
   },
   "outputs": [],
   "source": [
    "def knn_point(k, pos1, pos2):\n",
    "    '''\n",
    "    Input:\n",
    "        k: int32, number of k in k-nn search\n",
    "        pos1: (batch_size, ndataset, c) float32 array, input points\n",
    "        pos2: (batch_size, npoint, c) float32 array, query points\n",
    "    Output:\n",
    "        val: (batch_size, npoint, k) float32 array, L2 distances\n",
    "        idx: (batch_size, npoint, k) int32 array, indices to input points\n",
    "    '''\n",
    "    B, N, C = pos1.shape\n",
    "    M = pos2.shape[1]\n",
    "    pos1 = pos1.view(B,1,N,-1).repeat(1,M,1,1)\n",
    "    pos2 = pos2.view(B,M,1,-1).repeat(1,1,N,1)\n",
    "    dist = torch.sum(-(pos1-pos2)**2,-1)\n",
    "    val,idx = dist.topk(k=k,dim = -1)\n",
    "    return torch.sqrt(-val), idx"
   ]
  },
  {
   "cell_type": "code",
   "execution_count": 4,
   "metadata": {
    "executionInfo": {
     "elapsed": 71,
     "status": "ok",
     "timestamp": 1648827379845,
     "user": {
      "displayName": "Joseph Wilson",
      "userId": "10418926994387796219"
     },
     "user_tz": 240
    },
    "id": "hJNPDwTStl00"
   },
   "outputs": [],
   "source": [
    "def measure_ball(device, start, end, radius, max_neighbor, pc_points, query_points):\n",
    "  with torch.no_grad():\n",
    "    if device == \"cuda\":\n",
    "      start.record()\n",
    "    else:\n",
    "      start = time.time()\n",
    "    neighbors, counts = query_ball_point(radius, max_neighbor, pc_points, query_points)\n",
    "    if device == \"cuda\":\n",
    "      end.record()\n",
    "      torch.cuda.synchronize()\n",
    "      return start.elapsed_time(end)\n",
    "    else:\n",
    "      return 1000 * (time.time() - start)\n",
    "\n",
    "def measure_knn(device, start, end, max_neighbor, pc_points, query_points):\n",
    "  with torch.no_grad():\n",
    "    if device == \"cuda\":\n",
    "      start.record()\n",
    "    else:\n",
    "      start = time.time()\n",
    "    dists, indices = knn_point(max_neighbor, pc_points, query_points)\n",
    "    if device == \"cuda\":\n",
    "      end.record()\n",
    "      torch.cuda.synchronize()\n",
    "      return start.elapsed_time(end)\n",
    "    else:\n",
    "      return 1000 * (time.time() - start)"
   ]
  },
  {
   "cell_type": "code",
   "execution_count": 13,
   "metadata": {
    "executionInfo": {
     "elapsed": 76,
     "status": "ok",
     "timestamp": 1648827381506,
     "user": {
      "displayName": "Joseph Wilson",
      "userId": "10418926994387796219"
     },
     "user_tz": 240
    },
    "id": "J45arotXtbvn"
   },
   "outputs": [],
   "source": [
    "max_neighbor = 10\n",
    "radius = 0.5\n",
    "num_pc = 100000\n",
    "num_query = 1000\n",
    "variance = 10"
   ]
  },
  {
   "cell_type": "code",
   "execution_count": 14,
   "metadata": {
    "colab": {
     "base_uri": "https://localhost:8080/"
    },
    "executionInfo": {
     "elapsed": 1637,
     "status": "ok",
     "timestamp": 1648827395034,
     "user": {
      "displayName": "Joseph Wilson",
      "userId": "10418926994387796219"
     },
     "user_tz": 240
    },
    "id": "uaQ6PNkO9qIT",
    "outputId": "078ef69c-5ab9-4c5d-d153-6d1500aaaaf7"
   },
   "outputs": [
    {
     "name": "stdout",
     "output_type": "stream",
     "text": [
      "cuda\n",
      "Ball: 0\n",
      "KNN: 0.1761913299560547\n"
     ]
    }
   ],
   "source": [
    "avg_ball = 0\n",
    "avg_knn = 0\n",
    "num_reps = 1\n",
    "\n",
    "with torch.no_grad():\n",
    "    for i in range(num_reps):\n",
    "      pc_points = variance * torch.randn(1, num_pc, 3).to(device)\n",
    "      query_points = variance * torch.randn(1, num_query, 3).to(device)\n",
    "      avg_knn += measure_knn(device, start, end, max_neighbor, pc_points, query_points)/num_reps\n",
    "\n",
    "#     for i in range(num_reps):\n",
    "#       pc_points = variance * torch.randn(1, num_pc, 3).to(device)\n",
    "#       query_points = variance * torch.randn(1, num_query, 3).to(device)\n",
    "#       avg_ball += measure_ball(device, start, end, radius, max_neighbor, pc_points, query_points)/num_reps\n",
    "\n",
    "print(device)\n",
    "print(\"Ball:\", avg_ball)\n",
    "print(\"KNN:\", avg_knn)"
   ]
  },
  {
   "cell_type": "code",
   "execution_count": null,
   "metadata": {
    "id": "H2dQMaIuxEOS"
   },
   "outputs": [],
   "source": []
  }
 ],
 "metadata": {
  "accelerator": "GPU",
  "colab": {
   "authorship_tag": "ABX9TyO2Zi0Pzsl5H+Dge/THFTj/",
   "collapsed_sections": [],
   "name": "KNN.ipynb",
   "provenance": []
  },
  "kernelspec": {
   "display_name": "Python 3 (ipykernel)",
   "language": "python",
   "name": "python3"
  },
  "language_info": {
   "codemirror_mode": {
    "name": "ipython",
    "version": 3
   },
   "file_extension": ".py",
   "mimetype": "text/x-python",
   "name": "python",
   "nbconvert_exporter": "python",
   "pygments_lexer": "ipython3",
   "version": "3.8.10"
  }
 },
 "nbformat": 4,
 "nbformat_minor": 1
}
